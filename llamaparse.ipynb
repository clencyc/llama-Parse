{
 "cells": [
  {
   "cell_type": "code",
   "execution_count": 15,
   "metadata": {},
   "outputs": [
    {
     "name": "stdout",
     "output_type": "stream",
     "text": [
      "Started parsing the file under job_id 9ca5b8b6-d524-4473-a421-aa6e963b2285\n",
      "[Document(id_='d3827806-26b3-4424-80d5-ef9741e06f30', embedding=None, metadata={}, excluded_embed_metadata_keys=[], excluded_llm_metadata_keys=[], relationships={}, text='Doc ID: 6be9ef33-05ac-40e3-8d1a-67fe04ec968a\\nText: Doc ID: 11b84b7d-3ac6-459d-8325-cbaca08b3aef Text: Doc ID:\\naa38dff9-23a9-4dd0-a41f-3b5f51a8e698 Text: [', mimetype='text/plain', start_char_idx=None, end_char_idx=None, text_template='{metadata_str}\\n\\n{content}', metadata_template='{key}: {value}', metadata_seperator='\\n')]\n"
     ]
    },
    {
     "ename": "TypeError",
     "evalue": "expected string or bytes-like object, got 'dict'",
     "output_type": "error",
     "traceback": [
      "\u001b[0;31m---------------------------------------------------------------------------\u001b[0m",
      "\u001b[0;31mTypeError\u001b[0m                                 Traceback (most recent call last)",
      "Cell \u001b[0;32mIn[15], line 61\u001b[0m\n\u001b[1;32m     59\u001b[0m file_object \u001b[38;5;241m=\u001b[39m \u001b[38;5;28mopen\u001b[39m(file_path, \u001b[38;5;124m\"\u001b[39m\u001b[38;5;124mrb\u001b[39m\u001b[38;5;124m\"\u001b[39m)\n\u001b[1;32m     60\u001b[0m file_contents \u001b[38;5;241m=\u001b[39m file_object\u001b[38;5;241m.\u001b[39mread()\n\u001b[0;32m---> 61\u001b[0m \u001b[43mmb\u001b[49m\u001b[38;5;241;43m.\u001b[39;49m\u001b[43mdeploy\u001b[49m\u001b[43m(\u001b[49m\u001b[43mllama\u001b[49m\u001b[43m,\u001b[49m\u001b[43m \u001b[49m\u001b[43mdeploy_settings\u001b[49m\u001b[43m,\u001b[49m\u001b[43m \u001b[49m\u001b[43mfile_contents\u001b[49m\u001b[43m)\u001b[49m\n",
      "File \u001b[0;32m~/Dev/Llama_Parse/venv/lib/python3.12/site-packages/modelbit/telemetry.py:127\u001b[0m, in \u001b[0;36meatErrorAndLog.<locals>.decorator.<locals>.innerFn\u001b[0;34m(*args, **kwargs)\u001b[0m\n\u001b[1;32m    125\u001b[0m   \u001b[38;5;28;01mraise\u001b[39;00m ModelbitError(error)\n\u001b[1;32m    126\u001b[0m \u001b[38;5;28;01melse\u001b[39;00m:\n\u001b[0;32m--> 127\u001b[0m   \u001b[38;5;28;01mraise\u001b[39;00m cast(\u001b[38;5;167;01mException\u001b[39;00m, error)\n",
      "File \u001b[0;32m~/Dev/Llama_Parse/venv/lib/python3.12/site-packages/modelbit/telemetry.py:109\u001b[0m, in \u001b[0;36meatErrorAndLog.<locals>.decorator.<locals>.innerFn\u001b[0;34m(*args, **kwargs)\u001b[0m\n\u001b[1;32m    106\u001b[0m error: Optional[Union[\u001b[38;5;167;01mException\u001b[39;00m,\n\u001b[1;32m    107\u001b[0m                       \u001b[38;5;28mstr\u001b[39m]] \u001b[38;5;241m=\u001b[39m \u001b[38;5;28;01mNone\u001b[39;00m  \u001b[38;5;66;03m# Store and raise outside the handler so the trace is more compact.\u001b[39;00m\n\u001b[1;32m    108\u001b[0m \u001b[38;5;28;01mtry\u001b[39;00m:\n\u001b[0;32m--> 109\u001b[0m   \u001b[38;5;28;01mreturn\u001b[39;00m \u001b[43mfunc\u001b[49m\u001b[43m(\u001b[49m\u001b[38;5;241;43m*\u001b[39;49m\u001b[43margs\u001b[49m\u001b[43m,\u001b[49m\u001b[43m \u001b[49m\u001b[38;5;241;43m*\u001b[39;49m\u001b[38;5;241;43m*\u001b[39;49m\u001b[43mkwargs\u001b[49m\u001b[43m)\u001b[49m\n\u001b[1;32m    110\u001b[0m \u001b[38;5;28;01mexcept\u001b[39;00m (\u001b[38;5;167;01mKeyError\u001b[39;00m, \u001b[38;5;167;01mTypeError\u001b[39;00m) \u001b[38;5;28;01mas\u001b[39;00m e:\n\u001b[1;32m    111\u001b[0m   logEventToWeb(api\u001b[38;5;241m=\u001b[39mmbApi, userErrorMsg\u001b[38;5;241m=\u001b[39m\u001b[38;5;124mf\u001b[39m\u001b[38;5;124m\"\u001b[39m\u001b[38;5;132;01m{\u001b[39;00mgenericMsg\u001b[38;5;132;01m}\u001b[39;00m\u001b[38;5;124m, \u001b[39m\u001b[38;5;132;01m{\u001b[39;00m\u001b[38;5;28mtype\u001b[39m(e)\u001b[38;5;132;01m}\u001b[39;00m\u001b[38;5;124m, \u001b[39m\u001b[38;5;132;01m{\u001b[39;00m\u001b[38;5;28mstr\u001b[39m(e)\u001b[38;5;132;01m}\u001b[39;00m\u001b[38;5;124m\"\u001b[39m)\n",
      "File \u001b[0;32m~/Dev/Llama_Parse/venv/lib/python3.12/site-packages/modelbit/__init__.py:433\u001b[0m, in \u001b[0;36mdeploy\u001b[0;34m(deployableObj, name, python_version, python_packages, system_packages, dataframe_mode, example_dataframe, common_files, extra_files, skip_extra_files_dependencies, skip_extra_files_discovery, snowflake_max_rows, snowflake_mock_return_value, require_gpu, setup)\u001b[0m\n\u001b[1;32m    415\u001b[0m   m_model_wrappers\u001b[38;5;241m.\u001b[39mLambdaWrapper(\n\u001b[1;32m    416\u001b[0m       deployableObj,\n\u001b[1;32m    417\u001b[0m       name\u001b[38;5;241m=\u001b[39mname,\n\u001b[0;32m   (...)\u001b[0m\n\u001b[1;32m    430\u001b[0m       setup\u001b[38;5;241m=\u001b[39msetup,\n\u001b[1;32m    431\u001b[0m   )\u001b[38;5;241m.\u001b[39mmakeDeployment(_mbApi())\u001b[38;5;241m.\u001b[39mdeploy()\n\u001b[1;32m    432\u001b[0m \u001b[38;5;28;01melif\u001b[39;00m \u001b[38;5;28mcallable\u001b[39m(deployableObj):\n\u001b[0;32m--> 433\u001b[0m   \u001b[43mm_runtime\u001b[49m\u001b[38;5;241;43m.\u001b[39;49m\u001b[43mDeployment\u001b[49m\u001b[43m(\u001b[49m\n\u001b[1;32m    434\u001b[0m \u001b[43m      \u001b[49m\u001b[43mapi\u001b[49m\u001b[38;5;241;43m=\u001b[39;49m\u001b[43m_mbApi\u001b[49m\u001b[43m(\u001b[49m\u001b[43m)\u001b[49m\u001b[43m,\u001b[49m\n\u001b[1;32m    435\u001b[0m \u001b[43m      \u001b[49m\u001b[43mname\u001b[49m\u001b[38;5;241;43m=\u001b[39;49m\u001b[43mname\u001b[49m\u001b[43m,\u001b[49m\n\u001b[1;32m    436\u001b[0m \u001b[43m      \u001b[49m\u001b[43mdeploy_function\u001b[49m\u001b[38;5;241;43m=\u001b[39;49m\u001b[43mdeployableObj\u001b[49m\u001b[43m,\u001b[49m\n\u001b[1;32m    437\u001b[0m \u001b[43m      \u001b[49m\u001b[43mpython_version\u001b[49m\u001b[38;5;241;43m=\u001b[39;49m\u001b[43mpython_version\u001b[49m\u001b[43m,\u001b[49m\n\u001b[1;32m    438\u001b[0m \u001b[43m      \u001b[49m\u001b[43mpython_packages\u001b[49m\u001b[38;5;241;43m=\u001b[39;49m\u001b[43mpython_packages\u001b[49m\u001b[43m,\u001b[49m\n\u001b[1;32m    439\u001b[0m \u001b[43m      \u001b[49m\u001b[43msystem_packages\u001b[49m\u001b[38;5;241;43m=\u001b[39;49m\u001b[43msystem_packages\u001b[49m\u001b[43m,\u001b[49m\n\u001b[1;32m    440\u001b[0m \u001b[43m      \u001b[49m\u001b[43mdataframe_mode\u001b[49m\u001b[38;5;241;43m=\u001b[39;49m\u001b[43mdataframe_mode\u001b[49m\u001b[43m,\u001b[49m\n\u001b[1;32m    441\u001b[0m \u001b[43m      \u001b[49m\u001b[43mexample_dataframe\u001b[49m\u001b[38;5;241;43m=\u001b[39;49m\u001b[43mexample_dataframe\u001b[49m\u001b[43m,\u001b[49m\n\u001b[1;32m    442\u001b[0m \u001b[43m      \u001b[49m\u001b[43mcommon_files\u001b[49m\u001b[38;5;241;43m=\u001b[39;49m\u001b[43mcommon_files\u001b[49m\u001b[43m,\u001b[49m\n\u001b[1;32m    443\u001b[0m \u001b[43m      \u001b[49m\u001b[43mextra_files\u001b[49m\u001b[38;5;241;43m=\u001b[39;49m\u001b[43mextra_files\u001b[49m\u001b[43m,\u001b[49m\n\u001b[1;32m    444\u001b[0m \u001b[43m      \u001b[49m\u001b[43mskip_extra_files_dependencies\u001b[49m\u001b[38;5;241;43m=\u001b[39;49m\u001b[43mskip_extra_files_dependencies\u001b[49m\u001b[43m,\u001b[49m\n\u001b[1;32m    445\u001b[0m \u001b[43m      \u001b[49m\u001b[43mskip_extra_files_discovery\u001b[49m\u001b[38;5;241;43m=\u001b[39;49m\u001b[43mskip_extra_files_discovery\u001b[49m\u001b[43m,\u001b[49m\n\u001b[1;32m    446\u001b[0m \u001b[43m      \u001b[49m\u001b[43msnowflake_max_rows\u001b[49m\u001b[38;5;241;43m=\u001b[39;49m\u001b[43msnowflake_max_rows\u001b[49m\u001b[43m,\u001b[49m\n\u001b[1;32m    447\u001b[0m \u001b[43m      \u001b[49m\u001b[43msnowflake_mock_return_value\u001b[49m\u001b[38;5;241;43m=\u001b[39;49m\u001b[43msnowflake_mock_return_value\u001b[49m\u001b[43m,\u001b[49m\n\u001b[1;32m    448\u001b[0m \u001b[43m      \u001b[49m\u001b[43mrequire_gpu\u001b[49m\u001b[38;5;241;43m=\u001b[39;49m\u001b[43mrequire_gpu\u001b[49m\u001b[43m,\u001b[49m\n\u001b[1;32m    449\u001b[0m \u001b[43m      \u001b[49m\u001b[43msetup\u001b[49m\u001b[38;5;241;43m=\u001b[39;49m\u001b[43msetup\u001b[49m\u001b[43m,\u001b[49m\n\u001b[1;32m    450\u001b[0m \u001b[43m  \u001b[49m\u001b[43m)\u001b[49m\u001b[38;5;241m.\u001b[39mdeploy()\n\u001b[1;32m    451\u001b[0m \u001b[38;5;28;01melse\u001b[39;00m:\n\u001b[1;32m    452\u001b[0m   \u001b[38;5;28;01mraise\u001b[39;00m \u001b[38;5;167;01mException\u001b[39;00m(\u001b[38;5;124m\"\u001b[39m\u001b[38;5;124mFirst argument must be a function or Deployment object.\u001b[39m\u001b[38;5;124m\"\u001b[39m)\n",
      "File \u001b[0;32m~/Dev/Llama_Parse/venv/lib/python3.12/site-packages/modelbit/runtime.py:495\u001b[0m, in \u001b[0;36mDeployment.__init__\u001b[0;34m(self, api, name, deploy_function, python_version, requirements_txt_filepath, requirements_txt_contents, python_packages, system_packages, source_override, dataframe_mode, example_dataframe, common_files, extra_files, skip_extra_files_dependencies, skip_extra_files_discovery, snowflake_max_rows, snowflake_mock_return_value, job, setup, require_gpu)\u001b[0m\n\u001b[1;32m    493\u001b[0m \u001b[38;5;28;01mif\u001b[39;00m api \u001b[38;5;129;01mis\u001b[39;00m \u001b[38;5;28;01mNone\u001b[39;00m:\n\u001b[1;32m    494\u001b[0m   api \u001b[38;5;241m=\u001b[39m mbApi()\n\u001b[0;32m--> 495\u001b[0m \u001b[43mRuntime\u001b[49m\u001b[38;5;241;43m.\u001b[39;49m\u001b[38;5;21;43m__init__\u001b[39;49m\u001b[43m(\u001b[49m\u001b[38;5;28;43mself\u001b[39;49m\u001b[43m,\u001b[49m\n\u001b[1;32m    496\u001b[0m \u001b[43m                 \u001b[49m\u001b[43mapi\u001b[49m\u001b[38;5;241;43m=\u001b[39;49m\u001b[43mapi\u001b[49m\u001b[43m,\u001b[49m\n\u001b[1;32m    497\u001b[0m \u001b[43m                 \u001b[49m\u001b[43mname\u001b[49m\u001b[38;5;241;43m=\u001b[39;49m\u001b[43mname\u001b[49m\u001b[43m,\u001b[49m\n\u001b[1;32m    498\u001b[0m \u001b[43m                 \u001b[49m\u001b[43mmain_function\u001b[49m\u001b[38;5;241;43m=\u001b[39;49m\u001b[43mdeploy_function\u001b[49m\u001b[43m,\u001b[49m\n\u001b[1;32m    499\u001b[0m \u001b[43m                 \u001b[49m\u001b[43mpython_version\u001b[49m\u001b[38;5;241;43m=\u001b[39;49m\u001b[43mpython_version\u001b[49m\u001b[43m,\u001b[49m\n\u001b[1;32m    500\u001b[0m \u001b[43m                 \u001b[49m\u001b[43mrequirements_txt_filepath\u001b[49m\u001b[38;5;241;43m=\u001b[39;49m\u001b[43mrequirements_txt_filepath\u001b[49m\u001b[43m,\u001b[49m\n\u001b[1;32m    501\u001b[0m \u001b[43m                 \u001b[49m\u001b[43mrequirements_txt_contents\u001b[49m\u001b[38;5;241;43m=\u001b[39;49m\u001b[43mrequirements_txt_contents\u001b[49m\u001b[43m,\u001b[49m\n\u001b[1;32m    502\u001b[0m \u001b[43m                 \u001b[49m\u001b[43mpython_packages\u001b[49m\u001b[38;5;241;43m=\u001b[39;49m\u001b[43mpython_packages\u001b[49m\u001b[43m,\u001b[49m\n\u001b[1;32m    503\u001b[0m \u001b[43m                 \u001b[49m\u001b[43msystem_packages\u001b[49m\u001b[38;5;241;43m=\u001b[39;49m\u001b[43msystem_packages\u001b[49m\u001b[43m,\u001b[49m\n\u001b[1;32m    504\u001b[0m \u001b[43m                 \u001b[49m\u001b[43msource_override\u001b[49m\u001b[38;5;241;43m=\u001b[39;49m\u001b[43msource_override\u001b[49m\u001b[43m,\u001b[49m\n\u001b[1;32m    505\u001b[0m \u001b[43m                 \u001b[49m\u001b[43mdataframe_mode\u001b[49m\u001b[38;5;241;43m=\u001b[39;49m\u001b[43mdataframe_mode\u001b[49m\u001b[43m,\u001b[49m\n\u001b[1;32m    506\u001b[0m \u001b[43m                 \u001b[49m\u001b[43mexample_dataframe\u001b[49m\u001b[38;5;241;43m=\u001b[39;49m\u001b[43mexample_dataframe\u001b[49m\u001b[43m,\u001b[49m\n\u001b[1;32m    507\u001b[0m \u001b[43m                 \u001b[49m\u001b[43mcommon_files\u001b[49m\u001b[38;5;241;43m=\u001b[39;49m\u001b[43mcommon_files\u001b[49m\u001b[43m,\u001b[49m\n\u001b[1;32m    508\u001b[0m \u001b[43m                 \u001b[49m\u001b[43mextra_files\u001b[49m\u001b[38;5;241;43m=\u001b[39;49m\u001b[43mextra_files\u001b[49m\u001b[43m,\u001b[49m\n\u001b[1;32m    509\u001b[0m \u001b[43m                 \u001b[49m\u001b[43mskip_extra_files_dependencies\u001b[49m\u001b[38;5;241;43m=\u001b[39;49m\u001b[43mskip_extra_files_dependencies\u001b[49m\u001b[43m,\u001b[49m\n\u001b[1;32m    510\u001b[0m \u001b[43m                 \u001b[49m\u001b[43mskip_extra_files_discovery\u001b[49m\u001b[38;5;241;43m=\u001b[39;49m\u001b[43mskip_extra_files_discovery\u001b[49m\u001b[43m,\u001b[49m\n\u001b[1;32m    511\u001b[0m \u001b[43m                 \u001b[49m\u001b[43msnowflake_max_rows\u001b[49m\u001b[38;5;241;43m=\u001b[39;49m\u001b[43msnowflake_max_rows\u001b[49m\u001b[43m,\u001b[49m\n\u001b[1;32m    512\u001b[0m \u001b[43m                 \u001b[49m\u001b[43msnowflake_mock_return_value\u001b[49m\u001b[38;5;241;43m=\u001b[39;49m\u001b[43msnowflake_mock_return_value\u001b[49m\u001b[43m,\u001b[49m\n\u001b[1;32m    513\u001b[0m \u001b[43m                 \u001b[49m\u001b[43mjob\u001b[49m\u001b[38;5;241;43m=\u001b[39;49m\u001b[43mjob\u001b[49m\u001b[43m,\u001b[49m\n\u001b[1;32m    514\u001b[0m \u001b[43m                 \u001b[49m\u001b[43msetupNames\u001b[49m\u001b[38;5;241;43m=\u001b[39;49m\u001b[43msetup\u001b[49m\u001b[43m,\u001b[49m\n\u001b[1;32m    515\u001b[0m \u001b[43m                 \u001b[49m\u001b[43mrequire_gpu\u001b[49m\u001b[38;5;241;43m=\u001b[39;49m\u001b[43mrequire_gpu\u001b[49m\u001b[43m)\u001b[49m\n",
      "File \u001b[0;32m~/Dev/Llama_Parse/venv/lib/python3.12/site-packages/modelbit/runtime.py:107\u001b[0m, in \u001b[0;36mRuntime.__init__\u001b[0;34m(self, api, name, main_function, python_version, requirements_txt_filepath, requirements_txt_contents, python_packages, system_packages, source_override, dataframe_mode, example_dataframe, common_files, extra_files, skip_extra_files_dependencies, skip_extra_files_discovery, snowflake_max_rows, snowflake_mock_return_value, job, setupNames, require_gpu)\u001b[0m\n\u001b[1;32m    104\u001b[0m \u001b[38;5;28mself\u001b[39m\u001b[38;5;241m.\u001b[39m_snowflakeMockReturnValue \u001b[38;5;241m=\u001b[39m snowflake_mock_return_value\n\u001b[1;32m    106\u001b[0m \u001b[38;5;28;01mif\u001b[39;00m name:\n\u001b[0;32m--> 107\u001b[0m   \u001b[38;5;28;43mself\u001b[39;49m\u001b[38;5;241;43m.\u001b[39;49m\u001b[43mset_name\u001b[49m\u001b[43m(\u001b[49m\u001b[43mname\u001b[49m\u001b[43m)\u001b[49m\n\u001b[1;32m    108\u001b[0m \u001b[38;5;28;01mif\u001b[39;00m main_function:\n\u001b[1;32m    109\u001b[0m   \u001b[38;5;28mself\u001b[39m\u001b[38;5;241m.\u001b[39m_set_main_function(main_function)\n",
      "File \u001b[0;32m~/Dev/Llama_Parse/venv/lib/python3.12/site-packages/modelbit/runtime.py:154\u001b[0m, in \u001b[0;36mRuntime.set_name\u001b[0;34m(self, name)\u001b[0m\n\u001b[1;32m    153\u001b[0m \u001b[38;5;28;01mdef\u001b[39;00m \u001b[38;5;21mset_name\u001b[39m(\u001b[38;5;28mself\u001b[39m, name: \u001b[38;5;28mstr\u001b[39m) \u001b[38;5;241m-\u001b[39m\u001b[38;5;241m>\u001b[39m \u001b[38;5;28;01mNone\u001b[39;00m:\n\u001b[0;32m--> 154\u001b[0m   \u001b[38;5;28;01mif\u001b[39;00m \u001b[38;5;129;01mnot\u001b[39;00m \u001b[43mre\u001b[49m\u001b[38;5;241;43m.\u001b[39;49m\u001b[43mmatch\u001b[49m\u001b[43m(\u001b[49m\u001b[38;5;124;43m'\u001b[39;49m\u001b[38;5;124;43m^[a-zA-Z0-9_]+$\u001b[39;49m\u001b[38;5;124;43m'\u001b[39;49m\u001b[43m,\u001b[49m\u001b[43m \u001b[49m\u001b[43mname\u001b[49m\u001b[43m)\u001b[49m:\n\u001b[1;32m    155\u001b[0m     \u001b[38;5;28;01mraise\u001b[39;00m UserFacingError(\u001b[38;5;124m\"\u001b[39m\u001b[38;5;124mNames should be alphanumeric with underscores.\u001b[39m\u001b[38;5;124m\"\u001b[39m)\n\u001b[1;32m    156\u001b[0m   \u001b[38;5;28mself\u001b[39m\u001b[38;5;241m.\u001b[39m_deployName \u001b[38;5;241m=\u001b[39m name\n",
      "File \u001b[0;32m/usr/lib/python3.12/re/__init__.py:167\u001b[0m, in \u001b[0;36mmatch\u001b[0;34m(pattern, string, flags)\u001b[0m\n\u001b[1;32m    164\u001b[0m \u001b[38;5;28;01mdef\u001b[39;00m \u001b[38;5;21mmatch\u001b[39m(pattern, string, flags\u001b[38;5;241m=\u001b[39m\u001b[38;5;241m0\u001b[39m):\n\u001b[1;32m    165\u001b[0m \u001b[38;5;250m    \u001b[39m\u001b[38;5;124;03m\"\"\"Try to apply the pattern at the start of the string, returning\u001b[39;00m\n\u001b[1;32m    166\u001b[0m \u001b[38;5;124;03m    a Match object, or None if no match was found.\"\"\"\u001b[39;00m\n\u001b[0;32m--> 167\u001b[0m     \u001b[38;5;28;01mreturn\u001b[39;00m \u001b[43m_compile\u001b[49m\u001b[43m(\u001b[49m\u001b[43mpattern\u001b[49m\u001b[43m,\u001b[49m\u001b[43m \u001b[49m\u001b[43mflags\u001b[49m\u001b[43m)\u001b[49m\u001b[38;5;241;43m.\u001b[39;49m\u001b[43mmatch\u001b[49m\u001b[43m(\u001b[49m\u001b[43mstring\u001b[49m\u001b[43m)\u001b[49m\n",
      "\u001b[0;31mTypeError\u001b[0m: expected string or bytes-like object, got 'dict'"
     ]
    }
   ],
   "source": [
    "import modelbit\n",
    "mb = modelbit.login()\n",
    "\n",
    "import tempfile\n",
    "from llama_parse import LlamaParse\n",
    "\n",
    "# Simulate receiving the file content from the React frontend\n",
    "file_path = \"/home/clencyc/Dev/Llama_Parse/Package_1_Lot_2_Kulamawe_Modogashe_Consultancy_Services_Beneficial.pdf\"\n",
    "with open(file_path, 'rb') as f:\n",
    "    file_content = f.read()\n",
    "\n",
    "# Load the data using LlamaParse\n",
    "LLAMA_CLOUD_API_KEY = \"llx-I2ak5Fd5jXCnZg95khu2RqUDTNSBNmVbqYmLdwKNkkBvrVWB\"\n",
    "document_with_instruction = LlamaParse(\n",
    "    api_key=LLAMA_CLOUD_API_KEY,\n",
    "    result_type=\"markdown\", \n",
    "    parsing_instructions=\"\"\"\n",
    "This is the uploaded PDF file\n",
    "    \"\"\"\n",
    ").load_data(file_path)\n",
    "\n",
    "print(document_with_instruction)\n",
    "\n",
    "if document_with_instruction:\n",
    "    with open(file_path, \"w\") as file:\n",
    "        for item in document_with_instruction:\n",
    "            file.write(str(item) + \"\\n\")\n",
    "else:\n",
    "    print(\"No data found in document_with_instruction\")\n",
    "\n",
    "deploy_settings = {\n",
    "    \"env\": \"production\",  # or \"staging\", \"development\"\n",
    "    \"model_name\": \"parser_model\",\n",
    "    \"model_description\": \"A parser model for extracting information from PDF files and converting to Markdown\",\n",
    "    \"compute\": {\n",
    "        \"cpu\": 2,\n",
    "        \"gpu\": 1,\n",
    "        \"memory\": 8\n",
    "    },\n",
    "    \"batch_size\": 32,\n",
    "    \"input_data_format\": \"pdf\",\n",
    "    \"output_data_format\": \"markdown\",\n",
    "    \"model_versioning\": True\n",
    "}\n",
    "\n",
    "def llama(file_contents):\n",
    "    try:\n",
    "        with tempfile.TemporaryDirectory() as tmp_dir:\n",
    "            file_path = f\"{tmp_dir}/uploaded_file.pdf\"\n",
    "            with open(file_path, \"wb\") as f:\n",
    "                f.write(file_contents)\n",
    "        LLAMA_CLOUD_API_KEY = \"llx-I2ak5Fd5jXCnZg95khu2RqUDTNSBNmVbqYmLdwKNkkBvrVWB\"\n",
    "        api_key = LLAMA_CLOUD_API_KEY\n",
    "        result = LlamaParse(api_key=api_key, result_type=\"markdown\").load_data(file_path)\n",
    "        return result\n",
    "    except Exception as e:\n",
    "        print(f\"Error: {e}\")\n",
    "\n",
    "file_object = open(file_path, \"rb\")\n",
    "file_contents = file_object.read()\n",
    "mb.deploy(llama, deploy_settings, file_contents)"
   ]
  },
  {
   "cell_type": "code",
   "execution_count": null,
   "metadata": {},
   "outputs": [],
   "source": [
    "# Simulate receiving the file content from the React frontend\n",
    "file_path = \"/home/clencyc/Dev/Llama_Parse/Package_1_Lot_2_Kulamawe_Modogashe_Consultancy_Services_Beneficial.pdf\"\n",
    "with open(file_path, 'rb') as f:\n",
    "    file_content = f.read()\n",
    "\n",
    "mb.invoke(llama, file_contents)"
   ]
  }
 ],
 "metadata": {
  "kernelspec": {
   "display_name": "venv",
   "language": "python",
   "name": "python3"
  },
  "language_info": {
   "codemirror_mode": {
    "name": "ipython",
    "version": 3
   },
   "file_extension": ".py",
   "mimetype": "text/x-python",
   "name": "python",
   "nbconvert_exporter": "python",
   "pygments_lexer": "ipython3",
   "version": "3.12.7"
  }
 },
 "nbformat": 4,
 "nbformat_minor": 2
}
